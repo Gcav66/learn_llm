{
  "metadata": {
    "hide_input": false,
    "kernelspec": {
      "name": "py-dku-venv-py310_micrograd",
      "display_name": "Python (env py310_micrograd)",
      "language": "python"
    },
    "language_info": {
      "name": "python",
      "version": "3.10.11",
      "mimetype": "text/x-python",
      "codemirror_mode": {
        "name": "ipython",
        "version": 3
      },
      "pygments_lexer": "ipython3",
      "nbconvert_exporter": "python",
      "file_extension": ".py"
    },
    "creator": "admin",
    "modifiedBy": "admin",
    "createdOn": 1718183127528,
    "tags": [],
    "customFields": {}
  },
  "nbformat": 4,
  "nbformat_minor": 1,
  "cells": [
    {
      "execution_count": 0,
      "cell_type": "code",
      "metadata": {},
      "source": [
        "import dataiku\nfrom dataiku import pandasutils as pdu\nimport pandas as pd"
      ],
      "outputs": []
    },
    {
      "execution_count": 0,
      "cell_type": "code",
      "metadata": {},
      "source": [
        "import math\nfrom micrograd.engine import Value\nimport matplotlib.pyplot as plt\n%matplotlib inline"
      ],
      "outputs": []
    },
    {
      "execution_count": 0,
      "cell_type": "code",
      "metadata": {},
      "source": [
        "a \u003d Value(-4.0)\nb \u003d Value(2.0)\n"
      ],
      "outputs": []
    },
    {
      "execution_count": 0,
      "cell_type": "code",
      "metadata": {},
      "source": [
        "a"
      ],
      "outputs": []
    },
    {
      "execution_count": 0,
      "cell_type": "code",
      "metadata": {},
      "source": [
        "b"
      ],
      "outputs": []
    },
    {
      "execution_count": 0,
      "cell_type": "code",
      "metadata": {},
      "source": [
        "c \u003d a + b\nd \u003d a * b + b**3"
      ],
      "outputs": []
    },
    {
      "execution_count": 0,
      "cell_type": "code",
      "metadata": {},
      "source": [
        "c"
      ],
      "outputs": []
    },
    {
      "execution_count": 0,
      "cell_type": "code",
      "metadata": {},
      "source": [
        "d"
      ],
      "outputs": []
    },
    {
      "execution_count": 0,
      "cell_type": "code",
      "metadata": {},
      "source": [
        "c +\u003d c + 1\nc +\u003d 1 + c + (-a)"
      ],
      "outputs": []
    },
    {
      "execution_count": 0,
      "cell_type": "code",
      "metadata": {},
      "source": [
        "c"
      ],
      "outputs": []
    },
    {
      "execution_count": 0,
      "cell_type": "code",
      "metadata": {},
      "source": [
        "d +\u003d d * 2 + (b + a).relu()\nd +\u003d 3 * d + (b - a).relu()"
      ],
      "outputs": []
    },
    {
      "execution_count": 0,
      "cell_type": "code",
      "metadata": {},
      "source": [
        "d"
      ],
      "outputs": []
    },
    {
      "execution_count": 0,
      "cell_type": "code",
      "metadata": {},
      "source": [
        "e \u003d c - d"
      ],
      "outputs": []
    },
    {
      "execution_count": 0,
      "cell_type": "code",
      "metadata": {},
      "source": [
        "e"
      ],
      "outputs": []
    },
    {
      "execution_count": 0,
      "cell_type": "code",
      "metadata": {},
      "source": [
        "f \u003d e**2"
      ],
      "outputs": []
    },
    {
      "execution_count": 0,
      "cell_type": "code",
      "metadata": {},
      "source": [
        "f"
      ],
      "outputs": []
    },
    {
      "execution_count": 0,
      "cell_type": "code",
      "metadata": {},
      "source": [
        "g \u003d f / 2.0\ng +\u003d 10.0 / f"
      ],
      "outputs": []
    },
    {
      "execution_count": 0,
      "cell_type": "code",
      "metadata": {},
      "source": [
        "g"
      ],
      "outputs": []
    },
    {
      "execution_count": 0,
      "cell_type": "code",
      "metadata": {},
      "source": [
        "print(f\u0027{g.data:.4f}\u0027) # prints 24.7041, the outcome of this forward pass"
      ],
      "outputs": []
    },
    {
      "execution_count": 0,
      "cell_type": "code",
      "metadata": {},
      "source": [
        "g.backward()\nprint(f\u0027{a.grad:.4f}\u0027) # prints 138.8338, i.e. the numerical value of dg/da\nprint(f\u0027{b.grad:.4f}\u0027) # prints 645.5773, i.e. the numerical value of dg/db"
      ],
      "outputs": []
    },
    {
      "execution_count": 0,
      "cell_type": "code",
      "metadata": {},
      "source": [
        "from micrograd import nn\nn \u003d nn.Neuron(2)\nx \u003d [Value(1.0), Value(-2.0)]\ny \u003d n(x)\n#dot \u003d draw_dot(y)"
      ],
      "outputs": []
    },
    {
      "execution_count": 0,
      "cell_type": "code",
      "metadata": {},
      "source": [
        "def f(x):\n    return 3*x**2 - 4*x +5"
      ],
      "outputs": []
    },
    {
      "execution_count": 0,
      "cell_type": "code",
      "metadata": {},
      "source": [
        "f(3.0)"
      ],
      "outputs": []
    },
    {
      "execution_count": 0,
      "cell_type": "code",
      "metadata": {},
      "source": [
        "import math\nimport numpy as np\nimport matplotlib.pyplot as plt\n%matplotlib inline"
      ],
      "outputs": []
    },
    {
      "execution_count": 0,
      "cell_type": "code",
      "metadata": {},
      "source": [
        "xs \u003d np.arange(-5, 5, 0.25)\nys \u003d f(xs)\nplt.plot(xs, ys)"
      ],
      "outputs": []
    },
    {
      "execution_count": 0,
      "cell_type": "code",
      "metadata": {},
      "source": [
        "h \u003d 0.00001\nx \u003d 3.0\n(f(x + h) - f(x))/h"
      ],
      "outputs": []
    },
    {
      "execution_count": 0,
      "cell_type": "code",
      "metadata": {},
      "source": [
        "h \u003d 0.0000001\nx \u003d -3.0\n(f(x + h) - f(x))/h"
      ],
      "outputs": []
    },
    {
      "execution_count": 0,
      "cell_type": "code",
      "metadata": {},
      "source": [
        "h \u003d 0.0000001\nx \u003d  2/3\n(f(x + h) - f(x))/h"
      ],
      "outputs": []
    },
    {
      "execution_count": 0,
      "cell_type": "code",
      "metadata": {},
      "source": [
        "h \u003d 0.0001\n# inputs\na \u003d 2.0\nb \u003d -3.0\nc \u003d 10.0\n\nd1 \u003d a*b + c\nprint (d)\nc +\u003d h\nd2 \u003d a*b + c\nprint(\u0027d1\u0027, d1)\nprint(\u0027d2\u0027, d2)\nprint(\u0027slope\u0027, (d2-d1)/h)"
      ],
      "outputs": []
    },
    {
      "execution_count": 0,
      "cell_type": "code",
      "metadata": {},
      "source": [
        "class Value:\n    \n    def __init__(self, data, _children\u003d(), _op\u003d\u0027\u0027, label\u003d\u0027\u0027):\n        self.data \u003d data\n        self.grad \u003d 0.0 # no effect\n        self._prev \u003d set(_children)\n        self._op \u003d _op\n        self.label \u003d label\n        \n    def __repr__(self):\n        return f\"Value(data\u003d{self.data})\"\n    \n    def __add__(self, other):\n        out \u003d Value(self.data + other.data, (self, other), \u0027+\u0027)\n        return out\n    \n    def __mul__(self, other):\n        out \u003d Value(self.data * other.data, (self, other), \u0027*\u0027)\n        return out\n"
      ],
      "outputs": []
    },
    {
      "execution_count": 0,
      "cell_type": "code",
      "metadata": {},
      "source": [
        "a \u003d Value(2.0, label \u003d \u0027a\u0027)\nb \u003d Value(-3.0, label \u003d \u0027b\u0027)\nc \u003d Value(10.0, label \u003d \u0027c\u0027)\ne \u003d a*b; e.label\u003d\u0027e\u0027\nd \u003d e+c; d.label\u003d\u0027d\u0027\nf \u003d Value(-2.0, label\u003d\u0027f\u0027)\nL \u003d d * f; L.label \u003d \u0027L\u0027\nL"
      ],
      "outputs": []
    },
    {
      "execution_count": 0,
      "cell_type": "code",
      "metadata": {},
      "source": [
        "print (a)\nprint (b)\nprint (c)\nprint (d)\nprint (d._prev)\nprint (d._op)"
      ],
      "outputs": []
    },
    {
      "execution_count": 0,
      "cell_type": "code",
      "metadata": {
        "scrolled": true
      },
      "source": [
        "from graphviz import Digraph"
      ],
      "outputs": []
    },
    {
      "execution_count": 0,
      "cell_type": "code",
      "metadata": {},
      "source": [
        "def trace(root):\n    # builds a set of all nodes and edges in a graph\n    nodes, edges \u003d set(), set()\n    def build(v):\n        if v not in nodes:\n            nodes.add(v)\n            for child in v._prev:\n                edges.add((child, v))\n                build(child)\n    build(root)\n    return nodes, edges\n    \ndef draw_dot(root):\n    dot \u003d Digraph(format\u003d\u0027svg\u0027, graph_attr\u003d{\u0027rankdir\u0027: \u0027LR\u0027}) # LR \u003d left to right\n    \n    nodes, edges \u003d trace(root)\n    for n in nodes:\n        uid \u003d str(id(n))\n        # for any value in the graph, create a rectangular (\u0027record\u0027) node for it\n        dot.node(name \u003d uid, label \u003d \"{ %s | data %.4f | grad %.4f }\" % (n.label, n.data, n.grad), shape\u003d\u0027record\u0027)\n        if n._op:\n            dot.node(name \u003d uid + n._op, label \u003d n._op)\n            dot.edge(uid + n._op, uid)\n        \n    for n1, n2 in edges:\n        #connect n1 to the op node of n2\n        dot.edge(str(id(n1)), str(id(n2)) + n2._op)\n        \n    return dot"
      ],
      "outputs": []
    },
    {
      "execution_count": 0,
      "cell_type": "code",
      "metadata": {},
      "source": [
        "## Forward Pass"
      ],
      "outputs": []
    },
    {
      "execution_count": 0,
      "cell_type": "code",
      "metadata": {},
      "source": [
        "draw_dot(L)"
      ],
      "outputs": []
    },
    {
      "execution_count": 0,
      "cell_type": "code",
      "metadata": {},
      "source": [
        "viz \u003d draw_dot(L)\nviz.render(filename\u003d\u0027/Users/guscavanaugh/l_img\u0027)"
      ],
      "outputs": []
    },
    {
      "execution_count": 0,
      "cell_type": "code",
      "metadata": {},
      "source": [
        "def lol():\n    \n    h \u003d 0.001\n    \n    a \u003d Value(2.0, label \u003d \u0027a\u0027)\n    b \u003d Value(-3.0, label \u003d \u0027b\u0027)\n    c \u003d Value(10.0, label \u003d \u0027c\u0027)\n    e \u003d a*b; e.label\u003d\u0027e\u0027\n    d \u003d e+c; d.label\u003d\u0027d\u0027\n    f \u003d Value(-2.0, label\u003d\u0027f\u0027)\n    L \u003d d * f; L.label \u003d \u0027L\u0027\n    L1 \u003d L.data\n    \n    a \u003d Value(2.0, label \u003d \u0027a\u0027)\n    b \u003d Value(-3.0, label \u003d \u0027b\u0027)\n    c \u003d Value(10.0, label \u003d \u0027c\u0027)\n    e \u003d a*b; e.label\u003d\u0027e\u0027\n    d \u003d e+c; d.label\u003d\u0027d\u0027\n    f \u003d Value(-2.0, label\u003d\u0027f\u0027)\n    L \u003d d * f; L.label \u003d \u0027L\u0027\n    L2 \u003d L.data + h\n    \n    print ((L2 - L1)/h)\n    \nlol()"
      ],
      "outputs": []
    },
    {
      "execution_count": 0,
      "cell_type": "code",
      "metadata": {},
      "source": [
        ""
      ],
      "outputs": []
    },
    {
      "execution_count": 0,
      "cell_type": "code",
      "metadata": {},
      "source": [
        "# Example: load a DSS dataset as a Pandas dataframe\nmydataset \u003d dataiku.Dataset(\"mydataset\")\nmydataset_df \u003d mydataset.get_dataframe()"
      ],
      "outputs": []
    },
    {
      "execution_count": 0,
      "cell_type": "code",
      "metadata": {},
      "source": [
        ""
      ],
      "outputs": []
    }
  ]
}